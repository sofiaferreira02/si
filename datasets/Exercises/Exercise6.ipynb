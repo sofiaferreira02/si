{
 "cells": [
  {
   "cell_type": "markdown",
   "metadata": {},
   "source": [
    "### Exercise 6: Implementing stratified splitting\n",
    "#####  6.2) Test the \"stratified_train_test_split\" function with the iris dataset."
   ]
  },
  {
   "cell_type": "code",
   "execution_count": 1,
   "metadata": {},
   "outputs": [],
   "source": [
    "import numpy as np\n",
    "from si.model_selection.split import stratified_train_test_split\n",
    "from si.io.csv_file import read_csv\n",
    "import pandas as pd"
   ]
  },
  {
   "cell_type": "code",
   "execution_count": 2,
   "metadata": {},
   "outputs": [
    {
     "data": {
      "text/plain": [
       "array(['Iris-setosa', 'Iris-versicolor', 'Iris-virginica'], dtype=object)"
      ]
     },
     "execution_count": 2,
     "metadata": {},
     "output_type": "execute_result"
    }
   ],
   "source": [
    "df_iris = read_csv(r'C:/Users/35192/si/datasets/iris/iris.csv', sep=\",\", label=True)\n",
    "df_iris.shape()  \n",
    "df_iris.get_classes()"
   ]
  },
  {
   "cell_type": "code",
   "execution_count": 3,
   "metadata": {},
   "outputs": [
    {
     "name": "stdout",
     "output_type": "stream",
     "text": [
      "Iris-setosa: 33.33%\n",
      "Iris-versicolor: 33.33%\n",
      "Iris-virginica: 33.33%\n"
     ]
    }
   ],
   "source": [
    "unique_labels, labels_counts = np.unique(df_iris.y, return_counts=True)\n",
    "proportions = pd.Series(labels_counts, index=unique_labels) / labels_counts.sum() * 100\n",
    "\n",
    "for label, proportion in proportions.items():\n",
    "    print(f\"{label}: {proportion:.2f}%\")"
   ]
  },
  {
   "cell_type": "code",
   "execution_count": 4,
   "metadata": {},
   "outputs": [
    {
     "data": {
      "text/plain": [
       "(<si.data.dataset.Dataset at 0x1ce448ef910>,\n",
       " <si.data.dataset.Dataset at 0x1ce44904fd0>)"
      ]
     },
     "execution_count": 4,
     "metadata": {},
     "output_type": "execute_result"
    }
   ],
   "source": [
    "train, test = stratified_train_test_split(df_iris, test_size=0.2, random_state=42)\n",
    "train, test\n"
   ]
  },
  {
   "cell_type": "code",
   "execution_count": 7,
   "metadata": {},
   "outputs": [
    {
     "name": "stdout",
     "output_type": "stream",
     "text": [
      "Train: (120, 4)\n",
      "Test: (30, 4)\n",
      "\n",
      "Train:\n",
      "Iris-setosa: 33.33%\n",
      "Iris-versicolor: 33.33%\n",
      "Iris-virginica: 33.33%\n",
      "\n",
      "Test:\n",
      "Iris-setosa: 33.33%\n",
      "Iris-versicolor: 33.33%\n",
      "Iris-virginica: 33.33%\n"
     ]
    }
   ],
   "source": [
    "# Verificar o tamanho dos conjuntos\n",
    "print(\"Train:\", train.shape())\n",
    "print(\"Test:\", test.shape())\n",
    "\n",
    "# Calcular proporções de treino\n",
    "labels_train, counts_train = np.unique(train.y, return_counts=True)\n",
    "proportions_train = counts_train / counts_train.sum() * 100\n",
    "\n",
    "print(\"\\nTrain:\")\n",
    "for label, proportion in zip(labels_train, proportions_train):\n",
    "    print(f\"{label}: {proportion:.2f}%\")\n",
    "\n",
    "labels_test, counts_test = np.unique(test.y, return_counts=True)\n",
    "proportions_test = counts_test / counts_test.sum() * 100\n",
    "\n",
    "print(\"\\nTest:\")\n",
    "for label, proportion in zip(labels_test, proportions_test):\n",
    "    print(f\"{label}: {proportion:.2f}%\")\n"
   ]
  }
 ],
 "metadata": {
  "kernelspec": {
   "display_name": ".venv",
   "language": "python",
   "name": "python3"
  },
  "language_info": {
   "codemirror_mode": {
    "name": "ipython",
    "version": 3
   },
   "file_extension": ".py",
   "mimetype": "text/x-python",
   "name": "python",
   "nbconvert_exporter": "python",
   "pygments_lexer": "ipython3",
   "version": "3.11.5"
  }
 },
 "nbformat": 4,
 "nbformat_minor": 2
}
