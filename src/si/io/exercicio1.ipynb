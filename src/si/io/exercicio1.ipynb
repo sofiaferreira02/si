{
 "cells": [
  {
   "cell_type": "markdown",
   "metadata": {},
   "source": [
    "### Exercise 1: NumPy array Indexing/Slicing"
   ]
  },
  {
   "cell_type": "code",
   "execution_count": 1,
   "metadata": {},
   "outputs": [],
   "source": [
    "import pandas as pd"
   ]
  },
  {
   "cell_type": "markdown",
   "metadata": {},
   "source": [
    "#### 1.1 In this exercise, we will use the iris dataset. Load the \"iris.csv\" using the appropriate method for this file type (use the new functions from the package)."
   ]
  },
  {
   "cell_type": "code",
   "execution_count": 2,
   "metadata": {},
   "outputs": [
    {
     "ename": "ModuleNotFoundError",
     "evalue": "No module named 'si'",
     "output_type": "error",
     "traceback": [
      "\u001b[1;31m---------------------------------------------------------------------------\u001b[0m",
      "\u001b[1;31mModuleNotFoundError\u001b[0m                       Traceback (most recent call last)",
      "Cell \u001b[1;32mIn[2], line 1\u001b[0m\n\u001b[1;32m----> 1\u001b[0m \u001b[38;5;28;01mfrom\u001b[39;00m \u001b[38;5;21;01msi\u001b[39;00m\u001b[38;5;21;01m.\u001b[39;00m\u001b[38;5;21;01mio\u001b[39;00m\u001b[38;5;21;01m.\u001b[39;00m\u001b[38;5;21;01mcsv\u001b[39;00m \u001b[38;5;28;01mimport\u001b[39;00m read_csv\n\u001b[0;32m      4\u001b[0m \u001b[38;5;66;03m#ficheiro = 'C:\\\\Users\\\\sofia\\\\VSCodeprojects\\\\SIB\\\\datasets\\\\iris\\\\iris.csv'\u001b[39;00m\n\u001b[0;32m      5\u001b[0m \u001b[38;5;66;03m#iris_data = pd.read_csv(ficheiro)\u001b[39;00m\n",
      "\u001b[1;31mModuleNotFoundError\u001b[0m: No module named 'si'"
     ]
    }
   ],
   "source": [
    "from si.io.csv import read_csv\n",
    "\n",
    "\n",
    "#ficheiro = 'C:\\\\Users\\\\sofia\\\\VSCodeprojects\\\\SIB\\\\datasets\\\\iris\\\\iris.csv'\n",
    "#iris_data = pd.read_csv(ficheiro)"
   ]
  },
  {
   "cell_type": "code",
   "execution_count": null,
   "metadata": {},
   "outputs": [],
   "source": [
    "iris_data"
   ]
  },
  {
   "cell_type": "markdown",
   "metadata": {},
   "source": [
    "#### 1.2) Select the penultimate independent variable. What is the dimension of the resulting array"
   ]
  },
  {
   "cell_type": "code",
   "execution_count": null,
   "metadata": {},
   "outputs": [],
   "source": [
    "penultima_variavel = iris_data.iloc[:, -2]\n",
    "penultima_variavel"
   ]
  },
  {
   "cell_type": "code",
   "execution_count": null,
   "metadata": {},
   "outputs": [],
   "source": [
    "shape = penultima_variavel.shape\n",
    "\n",
    "print(\"Dimensão resultante da matriz:\", shape)"
   ]
  },
  {
   "cell_type": "markdown",
   "metadata": {},
   "source": [
    "#### 1.3) Select the last 10 samples from the iris dataset. What is the mean of the last 10 samples for each independent variable/feature?"
   ]
  },
  {
   "cell_type": "code",
   "execution_count": null,
   "metadata": {},
   "outputs": [],
   "source": [
    "ultimas_amostras = iris_data.tail(10)\n",
    "ultimas_amostras"
   ]
  },
  {
   "cell_type": "code",
   "execution_count": null,
   "metadata": {},
   "outputs": [],
   "source": [
    "media_legth = ultimas_amostras.sepal_length.mean()\n",
    "media_legth"
   ]
  },
  {
   "cell_type": "code",
   "execution_count": null,
   "metadata": {},
   "outputs": [],
   "source": [
    "media_petal_width = ultimas_amostras.petal_width.mean()\n",
    "media_petal_width"
   ]
  },
  {
   "cell_type": "code",
   "execution_count": null,
   "metadata": {},
   "outputs": [],
   "source": [
    "media_width = ultimas_amostras.sepal_width.mean()\n",
    "media_width"
   ]
  },
  {
   "cell_type": "code",
   "execution_count": null,
   "metadata": {},
   "outputs": [],
   "source": [
    "media_petal_legth = ultimas_amostras.petal_length.mean()\n",
    "media_petal_legth"
   ]
  },
  {
   "cell_type": "markdown",
   "metadata": {},
   "source": [
    "#### 1.4) Select all samples from the dataset with values less than or equal to 6 for all independent variables/features. How many samples do you obtain?"
   ]
  },
  {
   "cell_type": "code",
   "execution_count": null,
   "metadata": {},
   "outputs": [],
   "source": [
    "amostras = (iris_data['sepal_length'] <= 6) & (iris_data['sepal_width'] <= 6) & (iris_data['petal_length'] <= 6) & (iris_data['petal_width'] <= 6)"
   ]
  },
  {
   "cell_type": "code",
   "execution_count": null,
   "metadata": {},
   "outputs": [],
   "source": [
    "filtrar_amostras = iris_data[amostras]\n",
    "num_amostras = len(filtrar_amostras)\n",
    "num_amostras"
   ]
  },
  {
   "cell_type": "markdown",
   "metadata": {},
   "source": [
    "#### 1.5) Select all samples with a class/label different from 'Irissetosa'. How many samples do you obtain?"
   ]
  },
  {
   "cell_type": "code",
   "execution_count": null,
   "metadata": {},
   "outputs": [],
   "source": [
    "amostra = iris_data['class'] != 'Iris-setosa'\n",
    "\n",
    "filtrar = iris_data[amostra]\n",
    "\n",
    "num_amostras = len(filtrar)\n",
    "num_amostras"
   ]
  }
 ],
 "metadata": {
  "kernelspec": {
   "display_name": ".venv",
   "language": "python",
   "name": "python3"
  },
  "language_info": {
   "codemirror_mode": {
    "name": "ipython",
    "version": 3
   },
   "file_extension": ".py",
   "mimetype": "text/x-python",
   "name": "python",
   "nbconvert_exporter": "python",
   "pygments_lexer": "ipython3",
   "version": "3.11.5"
  }
 },
 "nbformat": 4,
 "nbformat_minor": 2
}
